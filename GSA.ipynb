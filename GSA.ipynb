{
 "cells": [
  {
   "cell_type": "code",
   "execution_count": 32,
   "id": "5da05367",
   "metadata": {},
   "outputs": [],
   "source": [
    "import numpy as np\n",
    "import random\n",
    "\n",
    "random.seed(10)"
   ]
  },
  {
   "cell_type": "code",
   "execution_count": 42,
   "id": "5c65b1e0",
   "metadata": {},
   "outputs": [],
   "source": [
    "# Hidden state space\n",
    "S = [0, 1]\n",
    "# Emission space\n",
    "V = [1, 2, 3, 4, 5]\n",
    "\n",
    "# Transition matrix\n",
    "A = np.matrix([[0.8, 0.2], \n",
    "               [0.1, 0.9]])\n",
    "# Initial distribution \n",
    "mu_0 = [0.5, 0.5]\n",
    "# Emission matrix\n",
    "B = np.matrix([[0.2, 0.5, 0.2, 0.1, 0],\n",
    "               [0, 0.1, 0.4, 0.4, 0.1]])\n"
   ]
  },
  {
   "cell_type": "code",
   "execution_count": 89,
   "id": "fcade60a",
   "metadata": {},
   "outputs": [
    {
     "data": {
      "text/plain": [
       "array([4., 1., 1., 2., 1., 3., 4., 3., 5., 5., 3., 3., 3., 4., 3., 2., 3.,\n",
       "       3., 1., 3., 1., 2., 2., 4., 1., 2., 2., 3., 3., 4., 3., 2., 4., 5.,\n",
       "       4., 2., 4., 4., 3., 4., 4., 3., 4., 4., 2., 1., 3., 3., 4., 3., 5.,\n",
       "       3., 4., 3., 3., 4., 2., 2., 2., 2., 2., 3., 2., 2., 1., 2., 2., 4.,\n",
       "       2., 2., 2., 2., 2., 3., 3., 2., 3., 2., 3., 3., 2., 2., 2., 2., 1.,\n",
       "       2., 4., 2., 2., 2., 2., 2., 1., 3., 4., 3., 2., 3., 3., 4., 4., 4.,\n",
       "       4., 2., 3., 2., 4., 2., 3., 4., 4., 4., 3., 4., 4.])"
      ]
     },
     "execution_count": 89,
     "metadata": {},
     "output_type": "execute_result"
    }
   ],
   "source": [
    "class HMM():\n",
    "    \"\"\"\n",
    "    S: state space\n",
    "    V: emission space\n",
    "    A: transition matrix\n",
    "    mu_0: initial distribution\n",
    "    B: emission matrix\n",
    "    N: markov chain length\n",
    "    \"\"\"\n",
    "    \n",
    "    def __init__(self, S, V, A, mu_0, B, N):\n",
    "        self.S = S\n",
    "        self.V = V\n",
    "        self.A = A\n",
    "        self.mu_0 = mu_0\n",
    "        self.B = B\n",
    "        self.N = N\n",
    "        \n",
    "        self.markov_chain = self.markovChain()\n",
    "        self.emission = self.emitStates()\n",
    "        \n",
    "    def markovChain(self):\n",
    "        # Create markov chain\n",
    "        chain = np.zeros(self.N)\n",
    "        # Set the first state by sampling from the initial distribution\n",
    "        chain[0] = np.random.choice(self.S, p = self.mu_0)\n",
    "        \n",
    "        # Set the remaining states in the chain\n",
    "        for i in range(1, self.N):\n",
    "            # Get the probability row from the transition matrix\n",
    "            state_prob = np.array(self.A[int(chain[i - 1])]).flatten()\n",
    "            # Sample from the state space\n",
    "            chain[i] = np.random.choice(self.S, p = state_prob)\n",
    "        \n",
    "        return(chain)\n",
    "    \n",
    "    def emitStates(self):\n",
    "        emission = np.zeros(self.N)\n",
    "        \n",
    "        for i in range(self.N):\n",
    "            # Get the probability row from the emission matrix\n",
    "            emit_prob = np.array(self.B[int(self.markov_chain[i - 1])]).flatten()\n",
    "            # Sample from the emission matrix\n",
    "            emission[i] = np.random.choice(self.V, p = emit_prob)\n",
    "            \n",
    "        return(emission)\n",
    "        \n",
    "hmm = HMM(S, V, A, mu_0, B, 115)\n",
    "hmm.emission"
   ]
  },
  {
   "cell_type": "code",
   "execution_count": null,
   "id": "b71f80a4",
   "metadata": {},
   "outputs": [],
   "source": []
  }
 ],
 "metadata": {
  "kernelspec": {
   "display_name": "Python 3 (ipykernel)",
   "language": "python",
   "name": "python3"
  },
  "language_info": {
   "codemirror_mode": {
    "name": "ipython",
    "version": 3
   },
   "file_extension": ".py",
   "mimetype": "text/x-python",
   "name": "python",
   "nbconvert_exporter": "python",
   "pygments_lexer": "ipython3",
   "version": "3.9.7"
  }
 },
 "nbformat": 4,
 "nbformat_minor": 5
}
