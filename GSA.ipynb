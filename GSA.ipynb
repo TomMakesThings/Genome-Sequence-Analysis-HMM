{
 "cells": [
  {
   "cell_type": "code",
   "execution_count": 9,
   "id": "c815e020",
   "metadata": {},
   "outputs": [],
   "source": [
    "import numpy as np\n",
    "import random\n",
    "import matplotlib.pyplot as plt\n",
    "import matplotlib.patches as mpatches\n",
    "\n",
    "random.seed(10)"
   ]
  },
  {
   "cell_type": "code",
   "execution_count": 2,
   "id": "5c65b1e0",
   "metadata": {},
   "outputs": [],
   "source": [
    "# Hidden state space\n",
    "S = [0, 1]\n",
    "# Emission space\n",
    "V = [1, 2, 3, 4, 5]\n",
    "# Transition matrix\n",
    "A = np.matrix([[0.8, 0.2], \n",
    "               [0.1, 0.9]])\n",
    "# Initial distribution \n",
    "mu_0 = [0.5, 0.5]\n",
    "# Emission matrix\n",
    "B = np.matrix([[0.2, 0.5, 0.2, 0.1, 0],\n",
    "               [0, 0.1, 0.4, 0.4, 0.1]])"
   ]
  },
  {
   "cell_type": "code",
   "execution_count": 239,
   "id": "6ac062ed",
   "metadata": {},
   "outputs": [],
   "source": [
    "def writeParametersToFile(S, V, A, mu_0, B, file):\n",
    "    # Write parameters to file\n",
    "    f = open(file, \"w\")\n",
    "    f.write(\"State space: \" + \" \".join(str(s) for s in S) + \"\\n\")\n",
    "    f.write(\"Emission space: \" + \" \".join(str(v) for v in V) + \"\\n\")\n",
    "    f.write(\"Transition matrix: \" + \" \".join(str(a) for a in np.array(A).flatten()) + \"\\n\")\n",
    "    f.write(\"Initial distribution: \" + \" \".join(str(m) for m in mu_0) + \"\\n\")\n",
    "    f.write(\"Emission matrix: \" + \" \".join(str(b) for b in np.array(B).flatten()))\n",
    "    f.close()"
   ]
  },
  {
   "cell_type": "code",
   "execution_count": 247,
   "id": "0714821d",
   "metadata": {},
   "outputs": [],
   "source": [
    "class HMM():\n",
    "    \"\"\"\n",
    "    S: state space\n",
    "    V: emission space\n",
    "    A: transition matrix\n",
    "    mu_0: initial distribution\n",
    "    B: emission matrix\n",
    "    N: markov chain length\n",
    "    \"\"\"\n",
    "    \n",
    "    def __init__(self, S = None, V = None, A = None, mu_0 = None, B = None,\n",
    "                 N = 100, file = None):\n",
    "        \n",
    "        if isinstance(file, type(None)):\n",
    "            # If no file given, directly set parameters\n",
    "            self.S = S\n",
    "            self.V = V\n",
    "            self.A = A\n",
    "            self.mu_0 = mu_0\n",
    "            self.B = B\n",
    "            \n",
    "        else:\n",
    "            # Otherwise read parameters from a file\n",
    "            f = open(file, \"r\")\n",
    "            \n",
    "            readArray = lambda x: np.array(x.readline().split()[2:]).astype(float)\n",
    "            readMatrix = lambda x: np.matrix(x.readline().split()[2:]).astype(float)\n",
    "\n",
    "            self.S = readArray(f)\n",
    "            self.V = readArray(f)\n",
    "            self.A = readMatrix(f)\n",
    "            self.A.shape = (len(self.S), len(self.S))\n",
    "            self.mu_0 = readArray(f)\n",
    "            self.B = readMatrix(f)\n",
    "            self.B.shape = (len(self.S), len(self.V))\n",
    "            \n",
    "        # Set the chain length\n",
    "        self.N = N\n",
    "        \n",
    "        # Create the markov chain\n",
    "        self.markov_chain = self.markovChain()\n",
    "        # Get the emitted states\n",
    "        self.emission = self.emitStates()\n",
    "        \n",
    "        self.forwardAlgorithm(self.emission)\n",
    "        \n",
    "    def markovChain(self):\n",
    "        # Create markov chain\n",
    "        chain = np.zeros(self.N)\n",
    "        # Set the first state by sampling from the initial distribution\n",
    "        chain[0] = np.random.choice(self.S, p = self.mu_0)\n",
    "        \n",
    "        # Set the remaining states in the chain\n",
    "        for i in range(1, self.N):\n",
    "            # Get the probability row from the transition matrix\n",
    "            state_prob = np.array(self.A[int(chain[i - 1])]).flatten()\n",
    "            # Sample from the state space\n",
    "            chain[i] = np.random.choice(self.S, p = state_prob)\n",
    "        \n",
    "        return(chain)\n",
    "    \n",
    "    def emitStates(self):\n",
    "        emission = np.zeros(self.N)\n",
    "        \n",
    "        for i in range(self.N):\n",
    "            # Get the probability row from the emission matrix\n",
    "            emit_prob = np.array(self.B[int(self.markov_chain[i])]).flatten()\n",
    "            # Sample from the emission matrix\n",
    "            emission[i] = np.random.choice(self.V, p = emit_prob)\n",
    "            \n",
    "        return(emission)\n",
    "    \n",
    "    # Scaled forward algorithm\n",
    "    def forwardAlgorithm(self, sequence):\n",
    "        alphas = np.zeros(len(sequence))\n",
    "        \n",
    "        c_0 = self.B\n",
    "        print(sequence[0])\n",
    "        alphas[0] = "
   ]
  },
  {
   "cell_type": "code",
   "execution_count": 248,
   "id": "92cd9687",
   "metadata": {},
   "outputs": [
    {
     "name": "stdout",
     "output_type": "stream",
     "text": [
      "3.0\n",
      "[0. 0. 0. 0. 0. 0. 0. 0. 0. 0. 0. 0. 0. 0. 0. 0. 0. 0. 0. 0. 0. 0. 0. 0.\n",
      " 0. 0. 0. 0. 0. 0. 0. 0. 0. 0. 0. 0. 0. 0. 0. 0. 0. 0. 0. 0. 0. 0. 0. 0.\n",
      " 0. 0. 0. 0. 0. 0. 0. 0. 0. 0. 0. 0. 0. 0. 0. 0. 0. 0. 0. 0. 0. 0. 0. 0.\n",
      " 0. 0. 0. 0. 0. 0. 0. 0. 0. 0. 0. 0. 0. 0. 0. 0. 0. 0. 0. 0. 0. 0. 0. 0.\n",
      " 0. 0. 0. 0. 0. 0. 0. 0. 0. 0. 0. 0. 0. 0. 0. 0. 0. 0. 0.]\n"
     ]
    }
   ],
   "source": [
    "hmm = HMM(file = \"hmm_params.txt\", N = 115)\n",
    "states = hmm.markov_chain\n",
    "values = hmm.emission\n",
    "\n"
   ]
  },
  {
   "cell_type": "code",
   "execution_count": 237,
   "id": "56ae356d",
   "metadata": {},
   "outputs": [
    {
     "data": {
      "image/png": "[encoded data removed]",
      "text/plain": [
       "<Figure size 432x288 with 1 Axes>"
      ]
     },
     "metadata": {
      "needs_background": "light"
     },
     "output_type": "display_data"
    }
   ],
   "source": [
    "colour_dict = {0: \"red\", 1: \"darkorange\", 2: \"yellow\", 3: \"greenyellow\", 4: \"purple\"}\n",
    "colour_dict = {0: \"mediumpurple\", 1: \"paleturquoise\", 2: \"yellow\", 3: \"greenyellow\", 4: \"purple\"}\n",
    "\n",
    "fig = plt.figure()\n",
    "ax = fig.add_axes([0,0,2,1])\n",
    "ax.bar([i for i in range(len(values))], values, color = [colour_dict[int(s)] for s in states])\n",
    "plt.grid(color = '#95a5a6', linestyle = '--', linewidth = 2, axis = 'y', alpha = 0.2)\n",
    "plt.title('HMM States and Emission')\n",
    "plt.xlabel('N')\n",
    "plt.ylabel('Emission')\n",
    "\n",
    "plt.legend(handles = [mpatches.Patch(color = colour_dict[i],\n",
    "                                     label = np.unique(states)[i]) for i in range(len(np.unique(states)))],\n",
    "           title = \"State\")\n",
    "#plt.savefig(\".pdf\", bbox_inches = 'tight')\n",
    "plt.show()"
   ]
  },
  {
   "cell_type": "code",
   "execution_count": null,
   "id": "3ec90329",
   "metadata": {},
   "outputs": [],
   "source": []
  }
 ],
 "metadata": {
  "kernelspec": {
   "display_name": "Python 3 (ipykernel)",
   "language": "python",
   "name": "python3"
  },
  "language_info": {
   "codemirror_mode": {
    "name": "ipython",
    "version": 3
   },
   "file_extension": ".py",
   "mimetype": "text/x-python",
   "name": "python",
   "nbconvert_exporter": "python",
   "pygments_lexer": "ipython3",
   "version": "3.9.7"
  }
 },
 "nbformat": 4,
 "nbformat_minor": 5
}
