{
 "cells": [
  {
   "cell_type": "code",
   "execution_count": 1,
   "id": "c815e020",
   "metadata": {},
   "outputs": [],
   "source": [
    "import numpy as np\n",
    "import random\n",
    "import math\n",
    "import matplotlib.pyplot as plt\n",
    "import matplotlib.patches as mpatches\n",
    "\n",
    "random.seed(10)"
   ]
  },
  {
   "cell_type": "code",
   "execution_count": 2,
   "id": "5c65b1e0",
   "metadata": {},
   "outputs": [],
   "source": [
    "# Hidden state space\n",
    "S = [0, 1]\n",
    "# Emission space\n",
    "V = [1, 2, 3, 4, 5]\n",
    "# Transition matrix\n",
    "A = np.matrix([[0.8, 0.2], \n",
    "               [0.1, 0.9]])\n",
    "# Initial distribution \n",
    "mu_0 = [0.5, 0.5]\n",
    "# Emission matrix\n",
    "B = np.matrix([[0.2, 0.5, 0.2, 0.1, 0],\n",
    "               [0, 0.1, 0.4, 0.4, 0.1]])"
   ]
  },
  {
   "cell_type": "code",
   "execution_count": 3,
   "id": "5053f957",
   "metadata": {},
   "outputs": [],
   "source": [
    "def writeParametersToFile(S, V, A, mu_0, B, file):\n",
    "    # Write parameters to file\n",
    "    f = open(file, \"w\")\n",
    "    f.write(\"State space: \" + \" \".join(str(s) for s in S) + \"\\n\")\n",
    "    f.write(\"Emission space: \" + \" \".join(str(v) for v in V) + \"\\n\")\n",
    "    f.write(\"Transition matrix: \" + \" \".join(str(a) for a in np.array(A).flatten()) + \"\\n\")\n",
    "    f.write(\"Initial distribution: \" + \" \".join(str(m) for m in mu_0) + \"\\n\")\n",
    "    f.write(\"Emission matrix: \" + \" \".join(str(b) for b in np.array(B).flatten()))\n",
    "    f.close()"
   ]
  },
  {
   "cell_type": "code",
   "execution_count": 4,
   "id": "e295f188",
   "metadata": {},
   "outputs": [
    {
     "name": "stdout",
     "output_type": "stream",
     "text": [
      "Number of bases: 316620\n"
     ]
    }
   ],
   "source": [
    "chromosome_file = open(\"s_cerevisiae_chromosome_III.fa\", \"r\")\n",
    "\n",
    "bases = \"\".join([line.strip() for line in chromosome_file.readlines()[1:]])\n",
    "print(\"Number of bases: \" + str(len(bases)))"
   ]
  },
  {
   "cell_type": "code",
   "execution_count": 5,
   "id": "c410aba3",
   "metadata": {},
   "outputs": [],
   "source": [
    "# Split into 100 base pair windows\n",
    "window_size = 100\n",
    "\n",
    "split_bases = [bases[i : i + window_size] for i in range(0, len(bases), window_size)]"
   ]
  },
  {
   "cell_type": "code",
   "execution_count": 6,
   "id": "2e2bd92f",
   "metadata": {},
   "outputs": [
    {
     "name": "stdout",
     "output_type": "stream",
     "text": [
      "GC Statistics\n",
      "-------------\n",
      "Mean: 19.029%\n",
      "Median: 18.34%\n",
      "Standard deviation: 5.547%\n",
      "Minimum: 0.6%\n",
      "Maximum: 58.0%\n",
      "-------------\n"
     ]
    }
   ],
   "source": [
    "# Calculate the % of GC in each window\n",
    "gc_content = [window.count(\"G\") + window.count(\"C\") / len(window) for window in split_bases]\n",
    "\n",
    "decimal_places = 3\n",
    "\n",
    "print(\"GC Statistics\")\n",
    "print(\"-------------\")\n",
    "print(\"Mean: \" + str(round(np.mean(gc_content), decimal_places)) + \"%\")\n",
    "print(\"Median: \" + str(round(np.median(gc_content), decimal_places)) + \"%\")\n",
    "print(\"Standard deviation: \" + str(round(np.std(gc_content), decimal_places)) + \"%\")\n",
    "print(\"Minimum: \" + str(round(min(gc_content), decimal_places)) + \"%\")\n",
    "print(\"Maximum: \" + str(round(max(gc_content), decimal_places)) + \"%\")\n",
    "print(\"-------------\")"
   ]
  },
  {
   "cell_type": "code",
   "execution_count": 7,
   "id": "88ab37d8",
   "metadata": {},
   "outputs": [],
   "source": [
    "chromosome_emission = np.ones(len(gc_content))\n",
    "\n",
    "for i in range(len(gc_content)):\n",
    "    if 11 < gc_content[i] < 22:\n",
    "        chromosome_emission[i] = 2\n",
    "    elif 22 <= gc_content[i] < 33:\n",
    "        chromosome_emission[i] = 3\n",
    "    elif 33 <= gc_content[i] < 44:\n",
    "        chromosome_emission[i] = 4\n",
    "    elif 44 <= gc_content[i]:\n",
    "        chromosome_emission[i] = 5"
   ]
  },
  {
   "cell_type": "code",
   "execution_count": 84,
   "id": "0714821d",
   "metadata": {},
   "outputs": [],
   "source": [
    "class HMM():\n",
    "    \"\"\"\n",
    "    S: state space\n",
    "    V: emission space\n",
    "    A: transition matrix\n",
    "    mu_0: initial distribution\n",
    "    B: emission matrix\n",
    "    N: markov chain length\n",
    "    \"\"\"\n",
    "    \n",
    "    def __init__(self, S = None, V = None, A = None, mu_0 = None, B = None,\n",
    "                 N = 100, file = None):\n",
    "        \n",
    "        if isinstance(file, type(None)):\n",
    "            # If no file given, directly set parameters\n",
    "            self.S = S\n",
    "            self.V = V\n",
    "            self.A = A\n",
    "            self.mu_0 = mu_0\n",
    "            self.B = B\n",
    "            \n",
    "        else:\n",
    "            # Otherwise read parameters from a file\n",
    "            f = open(file, \"r\")\n",
    "            \n",
    "            readArray = lambda x: np.array(x.readline().split()[2:]).astype(float)\n",
    "            readMatrix = lambda x: np.matrix(x.readline().split()[2:]).astype(float)\n",
    "\n",
    "            self.S = readArray(f)\n",
    "            self.V = readArray(f)\n",
    "            self.A = readMatrix(f)\n",
    "            self.A.shape = (len(self.S), len(self.S))\n",
    "            self.mu_0 = readArray(f)\n",
    "            self.B = readMatrix(f)\n",
    "            self.B.shape = (len(self.S), len(self.V))\n",
    "            \n",
    "        # Set the chain length\n",
    "        self.N = N\n",
    "        # Number of states\n",
    "        self.J = len(self.S)\n",
    "\n",
    "        # Map emitted state values to numerical indexes\n",
    "        self.emit_idxs = dict(zip(self.V, [i for i in range(len(self.V))]))\n",
    "        \n",
    "    def markovChain(self):\n",
    "        # Create markov chain\n",
    "        chain = np.zeros(self.N)\n",
    "        # Set the first state by sampling from the initial distribution\n",
    "        chain[0] = np.random.choice(self.S, p = self.mu_0)\n",
    "        \n",
    "        # Set the remaining states in the chain\n",
    "        for i in range(1, self.N):\n",
    "            # Get the probability row from the transition matrix\n",
    "            state_prob = np.array(self.A[int(chain[i - 1])]).flatten()\n",
    "            # Sample from the state space\n",
    "            chain[i] = np.random.choice(self.S, p = state_prob)\n",
    "        \n",
    "        return(chain)\n",
    "    \n",
    "    def emitStates(self, markov_chain):\n",
    "        # Create output sequence\n",
    "        emission = np.zeros(self.N)\n",
    "        \n",
    "        for i in range(self.N):\n",
    "            # Get the probability row from the emission matrix\n",
    "            emit_prob = np.array(self.B[int(markov_chain[i])]).flatten()\n",
    "            # Sample from the emission matrix\n",
    "            emission[i] = np.random.choice(self.V, p = emit_prob)\n",
    "            \n",
    "        return(emission)\n",
    "    \n",
    "    # Scaled forward algorithm\n",
    "    def forwardAlgorithm(self, emitted_sequence):\n",
    "        # Initialise forward variables (alpha) and scale c\n",
    "        a_hat = np.matrix(np.zeros((self.J, self.N)), dtype = np.longfloat)\n",
    "        c = np.zeros(self.N, dtype = np.longfloat)\n",
    "        \n",
    "        # Map emitted sequence values to numerical indexes\n",
    "        sequence_idxs = [self.emit_idxs[x] for x in emitted_sequence]\n",
    "        v0 = int(sequence_idxs[0])\n",
    "        \n",
    "        a_hat[:, 0] = np.multiply(self.B[:, v0], self.mu_0[:].reshape(self.J, 1))\n",
    "        c[0] = sum(np.multiply(np.array(self.B[:, v0]).flatten(), self.mu_0[:]))\n",
    "        \n",
    "        # Divide alphas by scaling factor\n",
    "        for i in range(self.J):\n",
    "            a_hat[i, 0] = a_hat[i, 0] / c[0]\n",
    "            \n",
    "        for n in range(1, self.N):\n",
    "            # Get emission at position n\n",
    "            vn = int(sequence_idxs[n])\n",
    "            \n",
    "            for i in range(self.J):\n",
    "                # Calculate scale\n",
    "                c[n] += self.B[i, vn] * sum(np.multiply(a_hat[:, n - 1], self.A[:, i]))\n",
    "            \n",
    "            for i in range(self.J):\n",
    "                # Calculate scaled alpha\n",
    "                a_hat[i, n] = (1/c[n]) * (self.B[i, vn] * sum(np.multiply(a_hat[:, n - 1], self.A[:, i])))\n",
    "                \n",
    "        # Calculate probability of data\n",
    "        L = 0\n",
    "        \n",
    "        for n in range(self.N):\n",
    "            L += math.log(c[n])\n",
    "            \n",
    "        return(L, a_hat, c)\n",
    "    \n",
    "    def backwardAlgorithm(self, emitted_sequence, c):\n",
    "        # Initialise scaled backward variable\n",
    "        b_hat = np.matrix(np.zeros((self.J, self.N)), dtype = np.longfloat)\n",
    "        \n",
    "        # Map emitted sequence values to numerical indexes\n",
    "        sequence_idxs = [self.emit_idxs[x] for x in emitted_sequence]\n",
    "        \n",
    "        # Set inital values for BNi to BNj\n",
    "        b_hat[:, self.N - 1] = 1/c[self.N - 1]\n",
    "        \n",
    "        for n in range(self.N - 2, -1, -1):\n",
    "            # Get emission at position n\n",
    "            vn = int(sequence_idxs[n])\n",
    "            \n",
    "            for i in range(self.J):\n",
    "                # Calculate scaled backward variable\n",
    "                b_hat[i, n] = (1/c[n]) * (self.B[i, vn] * sum(np.multiply(b_hat[:, n + 1], self.A[:, i])))\n",
    "                \n",
    "        return(b_hat)\n",
    "    \n",
    "    def generateProbability(self, size):\n",
    "        # Generate random numbers\n",
    "        probability = [random.randint(1, 10) for i in range(size)]\n",
    "        # Scale between 0 - 1\n",
    "        probability = np.array([float(i) / sum(probability) for i in probability])\n",
    "        \n",
    "        return(probability)\n",
    "    \n",
    "    def BaumWelchAlgorithm(self, emitted_sequence, threshold):\n",
    "        # Initialise parameters theta\n",
    "        self.A = np.matrix(self.generateProbability(len(self.S)))\n",
    "        self.mu_0 = self.generateProbability(len(self.S))\n",
    "        self.B = np.matrix(self.generateProbability(len(self.V)))\n",
    "        \n",
    "        while self.A.shape[0] != len(self.S):\n",
    "            self.A = np.vstack([self.A, self.generateProbability(len(self.S))])\n",
    "            self.B = np.vstack([self.B, self.generateProbability(len(self.V))])\n",
    "\n",
    "        # Map emitted sequence values to numerical indexes\n",
    "        sequence_idxs = [self.emit_idxs[x] for x in emitted_sequence]\n",
    "        v1 = int(sequence_idxs[1])\n",
    "            \n",
    "        # Initialise log likelihood\n",
    "        L = float(\"inf\")\n",
    "        L_change = float(\"inf\")\n",
    "        \n",
    "        # Calculate likelihood for initial parameters\n",
    "        L_new, a_hat, c = self.forwardAlgorithm(emitted_sequence)\n",
    "        b_hat = self.backwardAlgorithm(emitted_sequence, c)\n",
    "        \n",
    "        while (L_change > threshold):\n",
    "            # Save previous state of A and B\n",
    "            A = np.copy(self.A)\n",
    "            B = np.copy(self.B)\n",
    "            self.B = np.zeros_like(self.B)\n",
    "            \n",
    "            for i in range(self.J):\n",
    "                for j in range(self.J):\n",
    "                    self.A[i, j] = np.sum(A[i, j] * np.multiply(np.multiply(a_hat[i, :-1],\n",
    "                                                                            np.array([B[j, idx] for idx in sequence_idxs[1:]])),\n",
    "                                                                b_hat[j, 1:]))\n",
    "                \n",
    "                    for vk in range(len(self.V)):\n",
    "                        emitted_states = np.zeros_like(sequence_idxs)\n",
    "                        state_idxs = [i for i, e in enumerate(sequence_idxs) if e == vk]\n",
    "                        emitted_states[state_idxs] = 1\n",
    "                        self.B[i, vk] += np.sum(A[i, j] * np.multiply(np.multiply(a_hat[i, :-1],\n",
    "                                                                          np.array([B[j, idx] for idx in sequence_idxs[1:]])),\n",
    "                                                              np.multiply(b_hat[j, 1:],\n",
    "                                                                          emitted_states[1:])))\n",
    "\n",
    "                self.B[i, :] = np.divide(self.B[i, :], np.sum(self.A[i, :]))\n",
    "                self.A[i, :] = np.divide(self.A[i, :], np.sum(self.A[i, :]))\n",
    "                    \n",
    "                self.mu_0[i] = a_hat[i, 0] * sum(np.array(np.multiply(np.multiply(A[i, :],\n",
    "                                                                                  B[:, v1].flatten()),\n",
    "                                                                      b_hat[:, 1].flatten())).flatten())\n",
    "                \n",
    "            # Normalise between 0 - 1 to account for underflow / rounding errors\n",
    "            self.mu_0 = np.array([float(i) / sum(self.mu_0) for i in self.mu_0])\n",
    "            \n",
    "            # Calculate likelihood for new parameters\n",
    "            L_new, a_hat, c = self.forwardAlgorithm(emitted_sequence)\n",
    "            b_hat = self.backwardAlgorithm(emitted_sequence, c)\n",
    "        \n",
    "            # Difference in likelihood between previous and updated paramaters\n",
    "            L_change = abs(L - L_new)\n",
    "            L = L_new\n",
    "            \n",
    "            print(L)\n",
    "            \n",
    "        return(L)\n",
    "    \n",
    "    def ViterbiAlgorithm(self, emitted_sequence):\n",
    "        phi = np.matrix(np.zeros((self.J, self.N)), dtype = np.longfloat)\n",
    "        \n",
    "        # Map emitted sequence values to numerical indexes\n",
    "        sequence_idxs = [self.emit_idxs[x] for x in emitted_sequence]\n",
    "        v0 = int(sequence_idxs[0])\n",
    "        \n",
    "        print(np.array([math.log(b) for b in self.B[:, v0]]))\n",
    "        \n",
    "        phi[:, 0] = np.array([math.log(m) for m in self.mu_0]) + np.array([math.log(b) for b in self.B[:, v0]])"
   ]
  },
  {
   "cell_type": "code",
   "execution_count": 74,
   "id": "92cd9687",
   "metadata": {},
   "outputs": [
    {
     "name": "stdout",
     "output_type": "stream",
     "text": [
      "Emitted sequence: [4. 4. 2. 4. 3. 3. 3. 2. 3. 2. 3. 1. 4. 4. 2. 4. 5. 3. 3. 2. 3. 3. 4. 3.\n",
      " 3. 4. 3. 3. 4. 2. 2. 2. 2. 3. 4. 4. 4. 3. 2. 4. 2. 2. 3. 5. 2. 2. 3. 3.\n",
      " 4. 2. 5. 4. 3. 2. 2. 4. 2. 4. 4. 3. 4. 5. 4. 3. 4. 3. 4. 2. 4. 4. 4. 3.\n",
      " 5. 5. 3. 4. 4. 5. 4. 3. 3. 2. 2. 3. 4. 3. 3. 3. 4. 5. 4. 3. 2. 2. 3. 2.\n",
      " 4. 3. 4. 5. 2. 3. 5. 3. 3. 4. 4. 4. 3. 4. 4. 2. 4. 4. 4.]\n",
      "Likelihood: -157.22386604612842\n"
     ]
    }
   ],
   "source": [
    "hmm = HMM(file = \"hmm_params.txt\", N = 115)\n",
    "# Create the markov chain\n",
    "m_chain = hmm.markovChain()\n",
    "# Get the emitted states\n",
    "emitted_sequence = hmm.emitStates(m_chain)\n",
    "log_likelihood, _, _ = hmm.forwardAlgorithm(emitted_sequence)\n",
    "\n",
    "print(\"Emitted sequence: \" + str(emitted_sequence))\n",
    "print(\"Likelihood: \" + str(log_likelihood))"
   ]
  },
  {
   "cell_type": "code",
   "execution_count": 75,
   "id": "fe705c05",
   "metadata": {},
   "outputs": [
    {
     "data": {
      "text/plain": [
       "array([1., 1., 1., ..., 5., 5., 2.])"
      ]
     },
     "execution_count": 75,
     "metadata": {},
     "output_type": "execute_result"
    }
   ],
   "source": [
    "chromosome_emission"
   ]
  },
  {
   "cell_type": "code",
   "execution_count": 85,
   "id": "99f15241",
   "metadata": {},
   "outputs": [
    {
     "name": "stdout",
     "output_type": "stream",
     "text": [
      "Likelihood: -3581.347726590954\n"
     ]
    },
    {
     "ename": "ValueError",
     "evalue": "math domain error",
     "output_type": "error",
     "traceback": [
      "\u001b[1;31m---------------------------------------------------------------------------\u001b[0m",
      "\u001b[1;31mValueError\u001b[0m                                Traceback (most recent call last)",
      "\u001b[1;32m~\\AppData\\Local\\Temp/ipykernel_9148/3236159587.py\u001b[0m in \u001b[0;36m<module>\u001b[1;34m\u001b[0m\n\u001b[0;32m      5\u001b[0m \u001b[1;33m\u001b[0m\u001b[0m\n\u001b[0;32m      6\u001b[0m \u001b[1;31m#hmm_chromosome.BaumWelchAlgorithm(chromosome_emission, threshold = 100)\u001b[0m\u001b[1;33m\u001b[0m\u001b[1;33m\u001b[0m\u001b[0m\n\u001b[1;32m----> 7\u001b[1;33m \u001b[0mhmm_chromosome\u001b[0m\u001b[1;33m.\u001b[0m\u001b[0mViterbiAlgorithm\u001b[0m\u001b[1;33m(\u001b[0m\u001b[0mchromosome_emission\u001b[0m\u001b[1;33m)\u001b[0m\u001b[1;33m\u001b[0m\u001b[1;33m\u001b[0m\u001b[0m\n\u001b[0m",
      "\u001b[1;32m~\\AppData\\Local\\Temp/ipykernel_9148/3923542901.py\u001b[0m in \u001b[0;36mViterbiAlgorithm\u001b[1;34m(self, emitted_sequence)\u001b[0m\n\u001b[0;32m    207\u001b[0m         \u001b[0mv0\u001b[0m \u001b[1;33m=\u001b[0m \u001b[0mint\u001b[0m\u001b[1;33m(\u001b[0m\u001b[0msequence_idxs\u001b[0m\u001b[1;33m[\u001b[0m\u001b[1;36m0\u001b[0m\u001b[1;33m]\u001b[0m\u001b[1;33m)\u001b[0m\u001b[1;33m\u001b[0m\u001b[1;33m\u001b[0m\u001b[0m\n\u001b[0;32m    208\u001b[0m \u001b[1;33m\u001b[0m\u001b[0m\n\u001b[1;32m--> 209\u001b[1;33m         \u001b[0mprint\u001b[0m\u001b[1;33m(\u001b[0m\u001b[0mnp\u001b[0m\u001b[1;33m.\u001b[0m\u001b[0marray\u001b[0m\u001b[1;33m(\u001b[0m\u001b[1;33m[\u001b[0m\u001b[0mmath\u001b[0m\u001b[1;33m.\u001b[0m\u001b[0mlog\u001b[0m\u001b[1;33m(\u001b[0m\u001b[0mb\u001b[0m\u001b[1;33m)\u001b[0m \u001b[1;32mfor\u001b[0m \u001b[0mb\u001b[0m \u001b[1;32min\u001b[0m \u001b[0mself\u001b[0m\u001b[1;33m.\u001b[0m\u001b[0mB\u001b[0m\u001b[1;33m[\u001b[0m\u001b[1;33m:\u001b[0m\u001b[1;33m,\u001b[0m \u001b[0mv0\u001b[0m\u001b[1;33m]\u001b[0m\u001b[1;33m]\u001b[0m\u001b[1;33m)\u001b[0m\u001b[1;33m)\u001b[0m\u001b[1;33m\u001b[0m\u001b[1;33m\u001b[0m\u001b[0m\n\u001b[0m\u001b[0;32m    210\u001b[0m \u001b[1;33m\u001b[0m\u001b[0m\n\u001b[0;32m    211\u001b[0m         \u001b[0mphi\u001b[0m\u001b[1;33m[\u001b[0m\u001b[1;33m:\u001b[0m\u001b[1;33m,\u001b[0m \u001b[1;36m0\u001b[0m\u001b[1;33m]\u001b[0m \u001b[1;33m=\u001b[0m \u001b[0mnp\u001b[0m\u001b[1;33m.\u001b[0m\u001b[0marray\u001b[0m\u001b[1;33m(\u001b[0m\u001b[1;33m[\u001b[0m\u001b[0mmath\u001b[0m\u001b[1;33m.\u001b[0m\u001b[0mlog\u001b[0m\u001b[1;33m(\u001b[0m\u001b[0mm\u001b[0m\u001b[1;33m)\u001b[0m \u001b[1;32mfor\u001b[0m \u001b[0mm\u001b[0m \u001b[1;32min\u001b[0m \u001b[0mself\u001b[0m\u001b[1;33m.\u001b[0m\u001b[0mmu_0\u001b[0m\u001b[1;33m]\u001b[0m\u001b[1;33m)\u001b[0m \u001b[1;33m+\u001b[0m \u001b[0mnp\u001b[0m\u001b[1;33m.\u001b[0m\u001b[0marray\u001b[0m\u001b[1;33m(\u001b[0m\u001b[1;33m[\u001b[0m\u001b[0mmath\u001b[0m\u001b[1;33m.\u001b[0m\u001b[0mlog\u001b[0m\u001b[1;33m(\u001b[0m\u001b[0mb\u001b[0m\u001b[1;33m)\u001b[0m \u001b[1;32mfor\u001b[0m \u001b[0mb\u001b[0m \u001b[1;32min\u001b[0m \u001b[0mself\u001b[0m\u001b[1;33m.\u001b[0m\u001b[0mB\u001b[0m\u001b[1;33m[\u001b[0m\u001b[1;33m:\u001b[0m\u001b[1;33m,\u001b[0m \u001b[0mv0\u001b[0m\u001b[1;33m]\u001b[0m\u001b[1;33m]\u001b[0m\u001b[1;33m)\u001b[0m\u001b[1;33m\u001b[0m\u001b[1;33m\u001b[0m\u001b[0m\n",
      "\u001b[1;32m~\\AppData\\Local\\Temp/ipykernel_9148/3923542901.py\u001b[0m in \u001b[0;36m<listcomp>\u001b[1;34m(.0)\u001b[0m\n\u001b[0;32m    207\u001b[0m         \u001b[0mv0\u001b[0m \u001b[1;33m=\u001b[0m \u001b[0mint\u001b[0m\u001b[1;33m(\u001b[0m\u001b[0msequence_idxs\u001b[0m\u001b[1;33m[\u001b[0m\u001b[1;36m0\u001b[0m\u001b[1;33m]\u001b[0m\u001b[1;33m)\u001b[0m\u001b[1;33m\u001b[0m\u001b[1;33m\u001b[0m\u001b[0m\n\u001b[0;32m    208\u001b[0m \u001b[1;33m\u001b[0m\u001b[0m\n\u001b[1;32m--> 209\u001b[1;33m         \u001b[0mprint\u001b[0m\u001b[1;33m(\u001b[0m\u001b[0mnp\u001b[0m\u001b[1;33m.\u001b[0m\u001b[0marray\u001b[0m\u001b[1;33m(\u001b[0m\u001b[1;33m[\u001b[0m\u001b[0mmath\u001b[0m\u001b[1;33m.\u001b[0m\u001b[0mlog\u001b[0m\u001b[1;33m(\u001b[0m\u001b[0mb\u001b[0m\u001b[1;33m)\u001b[0m \u001b[1;32mfor\u001b[0m \u001b[0mb\u001b[0m \u001b[1;32min\u001b[0m \u001b[0mself\u001b[0m\u001b[1;33m.\u001b[0m\u001b[0mB\u001b[0m\u001b[1;33m[\u001b[0m\u001b[1;33m:\u001b[0m\u001b[1;33m,\u001b[0m \u001b[0mv0\u001b[0m\u001b[1;33m]\u001b[0m\u001b[1;33m]\u001b[0m\u001b[1;33m)\u001b[0m\u001b[1;33m)\u001b[0m\u001b[1;33m\u001b[0m\u001b[1;33m\u001b[0m\u001b[0m\n\u001b[0m\u001b[0;32m    210\u001b[0m \u001b[1;33m\u001b[0m\u001b[0m\n\u001b[0;32m    211\u001b[0m         \u001b[0mphi\u001b[0m\u001b[1;33m[\u001b[0m\u001b[1;33m:\u001b[0m\u001b[1;33m,\u001b[0m \u001b[1;36m0\u001b[0m\u001b[1;33m]\u001b[0m \u001b[1;33m=\u001b[0m \u001b[0mnp\u001b[0m\u001b[1;33m.\u001b[0m\u001b[0marray\u001b[0m\u001b[1;33m(\u001b[0m\u001b[1;33m[\u001b[0m\u001b[0mmath\u001b[0m\u001b[1;33m.\u001b[0m\u001b[0mlog\u001b[0m\u001b[1;33m(\u001b[0m\u001b[0mm\u001b[0m\u001b[1;33m)\u001b[0m \u001b[1;32mfor\u001b[0m \u001b[0mm\u001b[0m \u001b[1;32min\u001b[0m \u001b[0mself\u001b[0m\u001b[1;33m.\u001b[0m\u001b[0mmu_0\u001b[0m\u001b[1;33m]\u001b[0m\u001b[1;33m)\u001b[0m \u001b[1;33m+\u001b[0m \u001b[0mnp\u001b[0m\u001b[1;33m.\u001b[0m\u001b[0marray\u001b[0m\u001b[1;33m(\u001b[0m\u001b[1;33m[\u001b[0m\u001b[0mmath\u001b[0m\u001b[1;33m.\u001b[0m\u001b[0mlog\u001b[0m\u001b[1;33m(\u001b[0m\u001b[0mb\u001b[0m\u001b[1;33m)\u001b[0m \u001b[1;32mfor\u001b[0m \u001b[0mb\u001b[0m \u001b[1;32min\u001b[0m \u001b[0mself\u001b[0m\u001b[1;33m.\u001b[0m\u001b[0mB\u001b[0m\u001b[1;33m[\u001b[0m\u001b[1;33m:\u001b[0m\u001b[1;33m,\u001b[0m \u001b[0mv0\u001b[0m\u001b[1;33m]\u001b[0m\u001b[1;33m]\u001b[0m\u001b[1;33m)\u001b[0m\u001b[1;33m\u001b[0m\u001b[1;33m\u001b[0m\u001b[0m\n",
      "\u001b[1;31mValueError\u001b[0m: math domain error"
     ]
    }
   ],
   "source": [
    "hmm_chromosome = HMM(file = \"hmm_params.txt\", N = len(chromosome_emission))\n",
    "log_likelihood, _, _ = hmm_chromosome.forwardAlgorithm(chromosome_emission)\n",
    "\n",
    "print(\"Likelihood: \" + str(log_likelihood))\n",
    "\n",
    "#hmm_chromosome.BaumWelchAlgorithm(chromosome_emission, threshold = 100)\n",
    "hmm_chromosome.ViterbiAlgorithm(chromosome_emission)\n"
   ]
  },
  {
   "cell_type": "code",
   "execution_count": 46,
   "id": "9cccabe2",
   "metadata": {},
   "outputs": [
    {
     "ename": "NameError",
     "evalue": "name 'values' is not defined",
     "output_type": "error",
     "traceback": [
      "\u001b[1;31m---------------------------------------------------------------------------\u001b[0m",
      "\u001b[1;31mNameError\u001b[0m                                 Traceback (most recent call last)",
      "\u001b[1;32m~\\AppData\\Local\\Temp/ipykernel_9148/2141973447.py\u001b[0m in \u001b[0;36m<module>\u001b[1;34m\u001b[0m\n\u001b[0;32m      4\u001b[0m \u001b[0mfig\u001b[0m \u001b[1;33m=\u001b[0m \u001b[0mplt\u001b[0m\u001b[1;33m.\u001b[0m\u001b[0mfigure\u001b[0m\u001b[1;33m(\u001b[0m\u001b[1;33m)\u001b[0m\u001b[1;33m\u001b[0m\u001b[1;33m\u001b[0m\u001b[0m\n\u001b[0;32m      5\u001b[0m \u001b[0max\u001b[0m \u001b[1;33m=\u001b[0m \u001b[0mfig\u001b[0m\u001b[1;33m.\u001b[0m\u001b[0madd_axes\u001b[0m\u001b[1;33m(\u001b[0m\u001b[1;33m[\u001b[0m\u001b[1;36m0\u001b[0m\u001b[1;33m,\u001b[0m\u001b[1;36m0\u001b[0m\u001b[1;33m,\u001b[0m\u001b[1;36m2\u001b[0m\u001b[1;33m,\u001b[0m\u001b[1;36m1\u001b[0m\u001b[1;33m]\u001b[0m\u001b[1;33m)\u001b[0m\u001b[1;33m\u001b[0m\u001b[1;33m\u001b[0m\u001b[0m\n\u001b[1;32m----> 6\u001b[1;33m \u001b[0max\u001b[0m\u001b[1;33m.\u001b[0m\u001b[0mbar\u001b[0m\u001b[1;33m(\u001b[0m\u001b[1;33m[\u001b[0m\u001b[0mi\u001b[0m \u001b[1;32mfor\u001b[0m \u001b[0mi\u001b[0m \u001b[1;32min\u001b[0m \u001b[0mrange\u001b[0m\u001b[1;33m(\u001b[0m\u001b[0mlen\u001b[0m\u001b[1;33m(\u001b[0m\u001b[0mvalues\u001b[0m\u001b[1;33m)\u001b[0m\u001b[1;33m)\u001b[0m\u001b[1;33m]\u001b[0m\u001b[1;33m,\u001b[0m \u001b[0mvalues\u001b[0m\u001b[1;33m,\u001b[0m \u001b[0mcolor\u001b[0m \u001b[1;33m=\u001b[0m \u001b[1;33m[\u001b[0m\u001b[0mcolour_dict\u001b[0m\u001b[1;33m[\u001b[0m\u001b[0mint\u001b[0m\u001b[1;33m(\u001b[0m\u001b[0ms\u001b[0m\u001b[1;33m)\u001b[0m\u001b[1;33m]\u001b[0m \u001b[1;32mfor\u001b[0m \u001b[0ms\u001b[0m \u001b[1;32min\u001b[0m \u001b[0mstates\u001b[0m\u001b[1;33m]\u001b[0m\u001b[1;33m)\u001b[0m\u001b[1;33m\u001b[0m\u001b[1;33m\u001b[0m\u001b[0m\n\u001b[0m\u001b[0;32m      7\u001b[0m \u001b[0mplt\u001b[0m\u001b[1;33m.\u001b[0m\u001b[0mgrid\u001b[0m\u001b[1;33m(\u001b[0m\u001b[0mcolor\u001b[0m \u001b[1;33m=\u001b[0m \u001b[1;34m'#95a5a6'\u001b[0m\u001b[1;33m,\u001b[0m \u001b[0mlinestyle\u001b[0m \u001b[1;33m=\u001b[0m \u001b[1;34m'--'\u001b[0m\u001b[1;33m,\u001b[0m \u001b[0mlinewidth\u001b[0m \u001b[1;33m=\u001b[0m \u001b[1;36m2\u001b[0m\u001b[1;33m,\u001b[0m \u001b[0maxis\u001b[0m \u001b[1;33m=\u001b[0m \u001b[1;34m'y'\u001b[0m\u001b[1;33m,\u001b[0m \u001b[0malpha\u001b[0m \u001b[1;33m=\u001b[0m \u001b[1;36m0.2\u001b[0m\u001b[1;33m)\u001b[0m\u001b[1;33m\u001b[0m\u001b[1;33m\u001b[0m\u001b[0m\n\u001b[0;32m      8\u001b[0m \u001b[0mplt\u001b[0m\u001b[1;33m.\u001b[0m\u001b[0mtitle\u001b[0m\u001b[1;33m(\u001b[0m\u001b[1;34m'HMM States and Emission'\u001b[0m\u001b[1;33m)\u001b[0m\u001b[1;33m\u001b[0m\u001b[1;33m\u001b[0m\u001b[0m\n",
      "\u001b[1;31mNameError\u001b[0m: name 'values' is not defined"
     ]
    },
    {
     "data": {
      "image/png": "[encoded data removed]",
      "text/plain": [
       "<Figure size 432x288 with 1 Axes>"
      ]
     },
     "metadata": {
      "needs_background": "light"
     },
     "output_type": "display_data"
    }
   ],
   "source": [
    "colour_dict = {0: \"red\", 1: \"darkorange\", 2: \"yellow\", 3: \"greenyellow\", 4: \"purple\"}\n",
    "colour_dict = {0: \"mediumpurple\", 1: \"paleturquoise\", 2: \"yellow\", 3: \"greenyellow\", 4: \"purple\"}\n",
    "\n",
    "fig = plt.figure()\n",
    "ax = fig.add_axes([0,0,2,1])\n",
    "ax.bar([i for i in range(len(values))], values, color = [colour_dict[int(s)] for s in states])\n",
    "plt.grid(color = '#95a5a6', linestyle = '--', linewidth = 2, axis = 'y', alpha = 0.2)\n",
    "plt.title('HMM States and Emission')\n",
    "plt.xlabel('Index')\n",
    "plt.ylabel('Emission')\n",
    "\n",
    "plt.legend(handles = [mpatches.Patch(color = colour_dict[i],\n",
    "                                     label = np.unique(states)[i]) for i in range(len(np.unique(states)))],\n",
    "           title = \"State\")\n",
    "#plt.savefig(\".pdf\", bbox_inches = 'tight')\n",
    "plt.show()"
   ]
  },
  {
   "cell_type": "code",
   "execution_count": null,
   "id": "98030f20",
   "metadata": {},
   "outputs": [],
   "source": []
  }
 ],
 "metadata": {
  "kernelspec": {
   "display_name": "Python 3 (ipykernel)",
   "language": "python",
   "name": "python3"
  },
  "language_info": {
   "codemirror_mode": {
    "name": "ipython",
    "version": 3
   },
   "file_extension": ".py",
   "mimetype": "text/x-python",
   "name": "python",
   "nbconvert_exporter": "python",
   "pygments_lexer": "ipython3",
   "version": "3.9.7"
  }
 },
 "nbformat": 4,
 "nbformat_minor": 5
}
