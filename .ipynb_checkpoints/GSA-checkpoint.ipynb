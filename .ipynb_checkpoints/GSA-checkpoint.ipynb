{
 "cells": [
  {
   "cell_type": "code",
   "execution_count": 1,
   "id": "c815e020",
   "metadata": {},
   "outputs": [],
   "source": [
    "import numpy as np\n",
    "import random\n",
    "import math\n",
    "import matplotlib.pyplot as plt\n",
    "import matplotlib.patches as mpatches\n",
    "import pandas as pd\n",
    "from collections import Counter\n",
    "\n",
    "random.seed(10)"
   ]
  },
  {
   "cell_type": "code",
   "execution_count": 2,
   "id": "5c65b1e0",
   "metadata": {},
   "outputs": [],
   "source": [
    "# Hidden state space\n",
    "S = [0, 1]\n",
    "# Emission space\n",
    "V = [1, 2, 3, 4, 5]\n",
    "# Transition matrix\n",
    "A = np.matrix([[0.8, 0.2], \n",
    "               [0.1, 0.9]])\n",
    "# Initial distribution \n",
    "mu_0 = [0.5, 0.5]\n",
    "# Emission matrix\n",
    "B = np.matrix([[0.2, 0.5, 0.2, 0.1, 0],\n",
    "               [0, 0.1, 0.4, 0.4, 0.1]])"
   ]
  },
  {
   "cell_type": "code",
   "execution_count": 3,
   "id": "5053f957",
   "metadata": {},
   "outputs": [],
   "source": [
    "def writeParametersToFile(S, V, A, mu_0, B, file):\n",
    "    # Write parameters to file\n",
    "    f = open(file, \"w\")\n",
    "    f.write(\"State space: \" + \" \".join(str(s) for s in S) + \"\\n\")\n",
    "    f.write(\"Emission space: \" + \" \".join(str(v) for v in V) + \"\\n\")\n",
    "    f.write(\"Transition matrix: \" + \" \".join(str(a) for a in np.array(A).flatten()) + \"\\n\")\n",
    "    f.write(\"Initial distribution: \" + \" \".join(str(m) for m in mu_0) + \"\\n\")\n",
    "    f.write(\"Emission matrix: \" + \" \".join(str(b) for b in np.array(B).flatten()))\n",
    "    f.close()"
   ]
  },
  {
   "cell_type": "code",
   "execution_count": 4,
   "id": "bd2bcf75",
   "metadata": {},
   "outputs": [],
   "source": [
    "def writeEmissionToFile(emission, file):\n",
    "    # Write parameters to file\n",
    "    f = open(file, \"w\")\n",
    "    f.write(\" \".join(str(e) for e in emission) + \"\\n\")"
   ]
  },
  {
   "cell_type": "code",
   "execution_count": 5,
   "id": "e295f188",
   "metadata": {},
   "outputs": [
    {
     "name": "stdout",
     "output_type": "stream",
     "text": [
      "Number of bases: 316620\n"
     ]
    }
   ],
   "source": [
    "chromosome_file = open(\"s_cerevisiae_chromosome_III.fa\", \"r\")\n",
    "\n",
    "bases = \"\".join([line.strip() for line in chromosome_file.readlines()[1:]])\n",
    "print(\"Number of bases: \" + str(len(bases)))"
   ]
  },
  {
   "cell_type": "code",
   "execution_count": 6,
   "id": "c410aba3",
   "metadata": {},
   "outputs": [],
   "source": [
    "# Split into 100 base pair windows\n",
    "window_size = 100\n",
    "\n",
    "split_bases = [bases[i : i + window_size] for i in range(0, len(bases), window_size)]"
   ]
  },
  {
   "cell_type": "code",
   "execution_count": 7,
   "id": "2e2bd92f",
   "metadata": {},
   "outputs": [
    {
     "name": "stdout",
     "output_type": "stream",
     "text": [
      "GC Statistics\n",
      "-------------\n",
      "Mean: 0.385\n",
      "Median: 0.38\n",
      "Standard deviation: 0.072\n",
      "Minimum: 0.11\n",
      "Maximum: 0.63\n",
      "-------------\n"
     ]
    },
    {
     "data": {
      "image/png": "[encoded data removed]",
      "text/plain": [
       "<Figure size 432x288 with 1 Axes>"
      ]
     },
     "metadata": {
      "needs_background": "light"
     },
     "output_type": "display_data"
    }
   ],
   "source": [
    "# Calculate the % of GC in each window\n",
    "gc_content = [(window.count(\"G\") + window.count(\"C\")) / len(window) for window in split_bases]\n",
    "\n",
    "decimal_places = 3\n",
    "\n",
    "print(\"GC Statistics\")\n",
    "print(\"-------------\")\n",
    "print(\"Mean: \" + str(round(np.mean(gc_content), decimal_places)))\n",
    "print(\"Median: \" + str(round(np.median(gc_content), decimal_places)))\n",
    "print(\"Standard deviation: \" + str(round(np.std(gc_content), decimal_places)))\n",
    "print(\"Minimum: \" + str(round(min(gc_content), decimal_places)))\n",
    "print(\"Maximum: \" + str(round(max(gc_content), decimal_places)))\n",
    "print(\"-------------\")\n",
    "\n",
    "plt.hist(gc_content, bins = 50)\n",
    "plt.show()"
   ]
  },
  {
   "cell_type": "code",
   "execution_count": 8,
   "id": "88ab37d8",
   "metadata": {},
   "outputs": [
    {
     "name": "stdout",
     "output_type": "stream",
     "text": [
      "[5. 5. 5. ... 5. 5. 5.]\n",
      "Counter({3.0: 877, 4.0: 749, 5.0: 624, 2.0: 510, 1.0: 407})\n"
     ]
    }
   ],
   "source": [
    "chromosome_emission = np.ones(len(gc_content))\n",
    "\n",
    "for i in range(len(gc_content)):\n",
    "    if 0.3 < gc_content[i] < 0.35:\n",
    "        chromosome_emission[i] = 2\n",
    "    elif 0.35 <= gc_content[i] < 0.4:\n",
    "        chromosome_emission[i] = 3\n",
    "    elif 0.4 <= gc_content[i] < 0.45:\n",
    "        chromosome_emission[i] = 4\n",
    "    elif 0.45 <= gc_content[i]:\n",
    "        chromosome_emission[i] = 5\n",
    "        \n",
    "print(chromosome_emission)\n",
    "print(Counter(chromosome_emission))"
   ]
  },
  {
   "cell_type": "code",
   "execution_count": 9,
   "id": "0714821d",
   "metadata": {},
   "outputs": [],
   "source": [
    "class HMM():\n",
    "    \"\"\"\n",
    "    S: state space\n",
    "    V: emission space\n",
    "    A: transition matrix\n",
    "    mu_0: initial distribution\n",
    "    B: emission matrix\n",
    "    N: markov chain length\n",
    "    \"\"\"\n",
    "    \n",
    "    def __init__(self, S = None, V = None, A = None, mu_0 = None, B = None,\n",
    "                 N = 100, file = None):\n",
    "        \n",
    "        if isinstance(file, type(None)):\n",
    "            # If no file given, directly set parameters\n",
    "            self.S = S\n",
    "            self.V = V\n",
    "            self.A = A\n",
    "            self.mu_0 = mu_0\n",
    "            self.B = B\n",
    "            \n",
    "        else:\n",
    "            # Otherwise read parameters from a file\n",
    "            f = open(file, \"r\")\n",
    "            \n",
    "            readArray = lambda x: np.array(x.readline().split()[2:]).astype(float)\n",
    "            readMatrix = lambda x: np.matrix(x.readline().split()[2:]).astype(float)\n",
    "\n",
    "            self.S = readArray(f)\n",
    "            self.V = readArray(f)\n",
    "            self.A = readMatrix(f)\n",
    "            self.A.shape = (len(self.S), len(self.S))\n",
    "            self.mu_0 = readArray(f)\n",
    "            self.B = readMatrix(f)\n",
    "            self.B.shape = (len(self.S), len(self.V))\n",
    "            \n",
    "        # Set the chain length\n",
    "        self.N = N\n",
    "        # Number of states\n",
    "        self.J = len(self.S)\n",
    "\n",
    "        # Map emitted state values to numerical indexes\n",
    "        self.emit_idxs = dict(zip(self.V, [i for i in range(len(self.V))]))\n",
    "        \n",
    "    def markovChain(self):\n",
    "        # Create markov chain\n",
    "        chain = np.zeros(self.N)\n",
    "        # Set the first state by sampling from the initial distribution\n",
    "        chain[0] = np.random.choice(self.S, p = self.mu_0)\n",
    "        \n",
    "        # Set the remaining states in the chain\n",
    "        for i in range(1, self.N):\n",
    "            # Get the probability row from the transition matrix\n",
    "            state_prob = np.array(self.A[int(chain[i - 1])]).flatten()\n",
    "            # Sample from the state space\n",
    "            chain[i] = np.random.choice(self.S, p = state_prob)\n",
    "        \n",
    "        return(chain)\n",
    "    \n",
    "    def emitStates(self, markov_chain):\n",
    "        # Create output sequence\n",
    "        emission = np.zeros(self.N)\n",
    "        \n",
    "        for i in range(self.N):\n",
    "            # Get the probability row from the emission matrix\n",
    "            emit_prob = np.array(self.B[int(markov_chain[i])]).flatten()\n",
    "            # Sample from the emission matrix\n",
    "            emission[i] = np.random.choice(self.V, p = emit_prob)\n",
    "            \n",
    "        return(emission)\n",
    "    \n",
    "    # Scaled forward algorithm\n",
    "    def forwardAlgorithm(self, emitted_sequence):\n",
    "        # Initialise forward variables (alpha) and scale c\n",
    "        a_hat = np.matrix(np.zeros((self.J, self.N)), dtype = np.longfloat)\n",
    "        c = np.zeros(self.N, dtype = np.longfloat)\n",
    "        \n",
    "        # Map emitted sequence values to numerical indexes\n",
    "        sequence_idxs = [self.emit_idxs[x] for x in emitted_sequence]\n",
    "        v0 = int(sequence_idxs[0])\n",
    "        \n",
    "        a_hat[:, 0] = np.multiply(self.B[:, v0], self.mu_0[:].reshape(self.J, 1))\n",
    "        c[0] = sum(np.multiply(np.array(self.B[:, v0]).flatten(), self.mu_0[:]))\n",
    "        \n",
    "        # Divide alphas by scaling factor\n",
    "        for i in range(self.J):\n",
    "            a_hat[i, 0] = a_hat[i, 0] / c[0]\n",
    "            \n",
    "        for n in range(1, self.N):\n",
    "            # Get emission at position n\n",
    "            vn = int(sequence_idxs[n])\n",
    "            \n",
    "            for i in range(self.J):\n",
    "                # Calculate scale\n",
    "                c[n] += self.B[i, vn] * sum(np.multiply(a_hat[:, n - 1], self.A[:, i]))\n",
    "            \n",
    "            for i in range(self.J):\n",
    "                # Calculate scaled alpha\n",
    "                a_hat[i, n] = (1/c[n]) * (self.B[i, vn] * sum(np.multiply(a_hat[:, n - 1], self.A[:, i])))\n",
    "                \n",
    "        # Calculate probability of data\n",
    "        L = 0\n",
    "        \n",
    "        for n in range(self.N):\n",
    "            L += math.log(c[n])\n",
    "            \n",
    "        return(L, a_hat, c)\n",
    "    \n",
    "    def backwardAlgorithm(self, emitted_sequence, c):\n",
    "        # Initialise scaled backward variable\n",
    "        b_hat = np.matrix(np.zeros((self.J, self.N)), dtype = np.longfloat)\n",
    "        \n",
    "        # Map emitted sequence values to numerical indexes\n",
    "        sequence_idxs = [self.emit_idxs[x] for x in emitted_sequence]\n",
    "        \n",
    "        # Set inital values for BNi to BNj\n",
    "        b_hat[:, self.N - 1] = 1/c[-1]\n",
    "        \n",
    "        for n in range(self.N - 2, -1, -1):\n",
    "            # Get emission at position n + 1\n",
    "            vn_plus_1 = int(sequence_idxs[n + 1])\n",
    "            \n",
    "            for i in range(self.J):\n",
    "                # Calculate scaled backward variable\n",
    "                b_hat[i, n] = (1/c[n]) * sum(np.multiply(np.multiply(b_hat[:, n + 1], self.A[:, i]),\n",
    "                                                        self.B[:, vn_plus_1]))\n",
    "                \n",
    "        return(b_hat)\n",
    "    \n",
    "    def generateProbability(self, size):\n",
    "        # Generate random numbers\n",
    "        probability = [random.randint(1, 10) for i in range(size)]\n",
    "        # Scale between 0 - 1\n",
    "        probability = np.array([float(i) / sum(probability) for i in probability])\n",
    "        \n",
    "        return(probability)\n",
    "    \n",
    "    def BaumWelchAlgorithm(self, emitted_sequence, threshold, iterations = 100, verbose = 0):\n",
    "        # Initialise parameters theta\n",
    "        self.A = np.matrix(self.generateProbability(len(self.S)))\n",
    "        self.mu_0 = self.generateProbability(len(self.S))\n",
    "        self.B = np.matrix(self.generateProbability(len(self.V)))\n",
    "        \n",
    "        while self.A.shape[0] != len(self.S):\n",
    "            self.A = np.vstack([self.A, self.generateProbability(len(self.S))])\n",
    "            self.B = np.vstack([self.B, self.generateProbability(len(self.V))])\n",
    "\n",
    "        # Map emitted sequence values to numerical indexes\n",
    "        sequence_idxs = [self.emit_idxs[x] for x in emitted_sequence]\n",
    "        v1 = int(sequence_idxs[1])\n",
    "            \n",
    "        # Initialise log likelihood\n",
    "        L = float(\"inf\")\n",
    "        L_change = float(\"inf\")\n",
    "        \n",
    "        # Calculate likelihood for initial parameters\n",
    "        L_new, a_hat, c = self.forwardAlgorithm(emitted_sequence)\n",
    "        b_hat = self.backwardAlgorithm(emitted_sequence, c)\n",
    "        \n",
    "        count = 0\n",
    "        \n",
    "        if verbose > 0:\n",
    "            print(\"Initial parameters:\")\n",
    "            print(\"A\")\n",
    "            print(self.A)\n",
    "            print(\"B\")\n",
    "            print(self.B)\n",
    "            print(\"mu_0\")\n",
    "            print(self.mu_0)\n",
    "            print(\"\\n\")\n",
    "        \n",
    "        while (L_change > threshold):\n",
    "            count += 1\n",
    "            \n",
    "            # Save previous state of A and B\n",
    "            A = np.copy(self.A)\n",
    "            B = np.copy(self.B)\n",
    "            self.B = np.zeros_like(self.B)\n",
    "            \n",
    "            for i in range(self.J):\n",
    "                for j in range(self.J):\n",
    "                    self.A[i, j] = np.sum(A[i, j] * np.multiply(np.multiply(a_hat[i, :-1], \n",
    "                                                                            np.array([B[j, idx] for idx in sequence_idxs[1:]])),\n",
    "                                                                b_hat[j, 1:]))\n",
    "                \n",
    "                    for vk in range(len(self.V)):\n",
    "                        emitted_states = np.zeros_like(sequence_idxs)\n",
    "                        state_idxs = [i for i, e in enumerate(sequence_idxs) if e == vk]\n",
    "                        emitted_states[state_idxs] = 1\n",
    "                        self.B[i, vk] += np.sum(A[i, j] * np.multiply(np.multiply(a_hat[i, :-1],\n",
    "                                                                                  np.array([B[j, idx] for idx in sequence_idxs[1:]])),\n",
    "                                                                      np.multiply(b_hat[j, 1:],\n",
    "                                                                                  emitted_states[:-1]))) # HERE\n",
    "                # Divide by expectation\n",
    "                self.B[i, :] = np.divide(self.B[i, :], np.sum(self.A[i, :]))\n",
    "                self.A[i, :] = np.divide(self.A[i, :], np.sum(self.A[i, :]))\n",
    "                \n",
    "                self.mu_0[i] = np.sum(A[i, j] * np.multiply(np.multiply(a_hat[i, :-1],\n",
    "                                                                          np.array([B[j, idx] for idx in sequence_idxs[1:]])),\n",
    "                                                              b_hat[j, 1:]))\n",
    "                    \n",
    "                # Calculate updated mu\n",
    "                self.mu_0[i] = a_hat[i, 0] * sum(np.array(np.multiply(np.multiply(A[i, :],\n",
    "                                                                                  B[:, v1].flatten()),\n",
    "                                                                      b_hat[:, 1].flatten())).flatten())\n",
    "\n",
    "            # Normalise between 0 - 1 to account for underflow / rounding errors\n",
    "            self.mu_0 = np.array([float(i) / sum(self.mu_0) for i in self.mu_0])\n",
    "            \n",
    "            # Calculate likelihood for new parameters\n",
    "            L_new, a_hat, c = self.forwardAlgorithm(emitted_sequence)\n",
    "            b_hat = self.backwardAlgorithm(emitted_sequence, c)\n",
    "        \n",
    "            # Difference in likelihood between previous and updated paramaters\n",
    "            L_change = abs(L - L_new)\n",
    "            L = L_new\n",
    "            \n",
    "            if verbose > 0:\n",
    "                print(\"Iteration \" + str(count) + \":\")\n",
    "                print(\"A\")\n",
    "                print(self.A)\n",
    "                print(\"B\")\n",
    "                print(self.B)\n",
    "                print(\"mu_0\")\n",
    "                print(self.mu_0)\n",
    "                print(\"Log likelihood\")\n",
    "                print(L)\n",
    "                print(\"\\n\")\n",
    "\n",
    "        return(L)\n",
    "    \n",
    "    def ViterbiAlgorithm(self, emitted_sequence):\n",
    "        # Viterbi sequence, traceback pointer and best states\n",
    "        phi = np.matrix(np.zeros((self.J, self.N)), dtype = np.longfloat)\n",
    "        psi = np.matrix(np.zeros((self.J, self.N)), dtype = np.longfloat)\n",
    "        best_states = np.array(np.zeros(self.N))\n",
    "        \n",
    "        # Map emitted sequence values to numerical indexes\n",
    "        sequence_idxs = [self.emit_idxs[x] for x in emitted_sequence]\n",
    "        v0 = int(sequence_idxs[0])\n",
    "        \n",
    "        # Initialise first viterbi variable\n",
    "        phi[:, 0] = np.reshape(np.array([math.log(m) for m in self.mu_0]) + np.array([math.log(b) for b in self.B[:, v0]]),\n",
    "                        (self.J, 1))\n",
    "        \n",
    "        for n in range(1, self.N):\n",
    "            # Get the value at position n in the emitted sequence\n",
    "            vn = int(sequence_idxs[n])\n",
    "            \n",
    "            # Set the remaining viterbi variables\n",
    "            for i in range(self.J):\n",
    "                phi[i, n] = math.log(self.B[i, vn]) + max(np.array([math.log(self.A[i, j]) + phi[j, n - 1] for j in range(self.J)]))\n",
    "                psi[i, n] = np.argmax(np.array([math.log(self.A[i, j]) + phi[j, n - 1] for j in range(self.J)]))\n",
    "                \n",
    "        # Traceback to find the best fitting states\n",
    "        best_states[self.N - 1] = np.argmax([phi[i, self.N - 1] for i in range(self.J)])\n",
    "        \n",
    "        for n in range(self.N - 2, -1, -1):\n",
    "            best_states[n] = psi[int(best_states[n + 1]), n + 1]\n",
    "            \n",
    "        return(best_states)"
   ]
  },
  {
   "cell_type": "code",
   "execution_count": 10,
   "id": "92cd9687",
   "metadata": {},
   "outputs": [
    {
     "name": "stdout",
     "output_type": "stream",
     "text": [
      "Emitted sequence: [4. 2. 3. 3. 3. 5. 2. 3. 4. 3. 5. 2. 2. 2. 2. 3. 1. 2. 2. 3. 3. 4. 4. 3.\n",
      " 4. 4. 3. 3. 2. 3. 3. 3. 1. 2. 4. 2. 3. 2. 3. 1. 2. 2. 2. 3. 2. 1. 1. 4.\n",
      " 1. 3. 2. 2. 4. 2. 2. 3. 1. 3. 2. 4. 4. 2. 4. 3. 4. 3. 3. 4. 3. 2. 3. 3.\n",
      " 3. 4. 3. 1. 3. 3. 4. 3. 4. 4. 3. 4. 5. 3. 3. 2. 1. 2. 1. 2. 1. 2. 3. 2.\n",
      " 1. 2. 1. 2. 2. 2. 3. 3. 4. 3. 4. 3. 2. 3. 3. 2. 4. 3. 3.]\n",
      "Log Likelihood: -156.01843091356906\n"
     ]
    }
   ],
   "source": [
    "hmm = HMM(file = \"hmm_params.txt\", N = 115)\n",
    "# Create the markov chain\n",
    "m_chain = hmm.markovChain()\n",
    "# Get the emitted states\n",
    "emitted_sequence = hmm.emitStates(m_chain)\n",
    "log_likelihood, _, _ = hmm.forwardAlgorithm(emitted_sequence)\n",
    "\n",
    "print(\"Emitted sequence: \" + str(emitted_sequence))\n",
    "print(\"Log Likelihood: \" + str(log_likelihood))"
   ]
  },
  {
   "cell_type": "code",
   "execution_count": 11,
   "id": "03b78e7e",
   "metadata": {},
   "outputs": [],
   "source": [
    "# L, a_hat, c = hmm.forwardAlgorithm(emitted_sequence)\n",
    "# b_hat = hmm.backwardAlgorithm(emitted_sequence, c)\n",
    "\n",
    "# print(\"a_hat\")\n",
    "# print(a_hat)\n",
    "\n",
    "# print(\"\\nb_hat\")\n",
    "# print(b_hat)"
   ]
  },
  {
   "cell_type": "code",
   "execution_count": 12,
   "id": "f5ff5262",
   "metadata": {},
   "outputs": [],
   "source": [
    "#writeEmissionToFile(emitted_sequence, file = \"hmm_emission.txt\")"
   ]
  },
  {
   "cell_type": "code",
   "execution_count": 13,
   "id": "d8436382",
   "metadata": {},
   "outputs": [
    {
     "data": {
      "text/plain": [
       "array([4., 2., 3., 3., 3., 5., 2., 3., 4., 3., 5., 2., 2., 2., 2., 3., 1.,\n",
       "       2., 2., 3., 3., 4., 4., 3., 4., 4., 3., 3., 2., 3., 3., 3., 1., 2.,\n",
       "       4., 2., 3., 2., 3., 1., 2., 2., 2., 3., 2., 1., 1., 4., 1., 3., 2.,\n",
       "       2., 4., 2., 2., 3., 1., 3., 2., 4., 4., 2., 4., 3., 4., 3., 3., 4.,\n",
       "       3., 2., 3., 3., 3., 4., 3., 1., 3., 3., 4., 3., 4., 4., 3., 4., 5.,\n",
       "       3., 3., 2., 1., 2., 1., 2., 1., 2., 3., 2., 1., 2., 1., 2., 2., 2.,\n",
       "       3., 3., 4., 3., 4., 3., 2., 3., 3., 2., 4., 3., 3.])"
      ]
     },
     "execution_count": 13,
     "metadata": {},
     "output_type": "execute_result"
    }
   ],
   "source": [
    "emitted_sequence"
   ]
  },
  {
   "cell_type": "code",
   "execution_count": 14,
   "id": "bf857279",
   "metadata": {},
   "outputs": [],
   "source": [
    "# predicted_state = hmm.ViterbiAlgorithm(emitted_sequence)\n",
    "# print(\"States:    \" + str(m_chain[:22]))\n",
    "# print(\"Predicted: \" + str(predicted_state[:22]))"
   ]
  },
  {
   "cell_type": "code",
   "execution_count": 15,
   "id": "9cccabe2",
   "metadata": {},
   "outputs": [
    {
     "data": {
      "image/png": "[encoded data removed]",
      "text/plain": [
       "<Figure size 432x288 with 1 Axes>"
      ]
     },
     "metadata": {
      "needs_background": "light"
     },
     "output_type": "display_data"
    }
   ],
   "source": [
    "colour_dict = {0: \"mediumpurple\", 1: \"paleturquoise\", 2: \"yellow\", 3: \"greenyellow\", 4: \"purple\"}\n",
    "\n",
    "fig = plt.figure()\n",
    "ax = fig.add_axes([0,0,2,1])\n",
    "ax.bar([i for i in range(len(emitted_sequence))], emitted_sequence, color = [colour_dict[int(s)] for s in m_chain])\n",
    "plt.grid(color = '#95a5a6', linestyle = '--', linewidth = 2, axis = 'y', alpha = 0.2)\n",
    "plt.title('HMM States and Emission')\n",
    "plt.xlabel('Index')\n",
    "plt.ylabel('Emission')\n",
    "\n",
    "plt.legend(handles = [mpatches.Patch(color = colour_dict[i],\n",
    "                                     label = np.unique(m_chain)[i]) for i in range(len(np.unique(m_chain)))],\n",
    "           title = \"State\")\n",
    "plt.savefig(\"hmm_emission.pdf\", bbox_inches = 'tight')\n",
    "plt.show()"
   ]
  },
  {
   "cell_type": "code",
   "execution_count": null,
   "id": "21611625",
   "metadata": {},
   "outputs": [],
   "source": [
    "chromosome_emission[:10]"
   ]
  },
  {
   "cell_type": "code",
   "execution_count": 17,
   "id": "99f15241",
   "metadata": {},
   "outputs": [
    {
     "name": "stdout",
     "output_type": "stream",
     "text": [
      "Log Likelihood: -5202.602303981714\n",
      "\n",
      "Initial parameters:\n",
      "A\n",
      "[[0.90909091 0.09090909]\n",
      " [0.625      0.375     ]]\n",
      "B\n",
      "[[0.32258065 0.03225806 0.12903226 0.25806452 0.25806452]\n",
      " [0.03846154 0.34615385 0.30769231 0.23076923 0.07692308]]\n",
      "mu_0\n",
      "[0.46666667 0.53333333]\n",
      "\n",
      "\n",
      "Iteration 1:\n",
      "A\n",
      "[[0.97188503 0.02811497]\n",
      " [0.84183664 0.15816336]]\n",
      "B\n",
      "[[0.15854602 0.06199286 0.23724652 0.26802016 0.27419445]\n",
      " [0.01444311 0.4162715  0.37739611 0.15063044 0.04125884]]\n",
      "mu_0\n",
      "[0.80770884 0.19229116]\n",
      "Log likelihood\n",
      "-5149.229977829159\n",
      "\n",
      "\n",
      "Iteration 2:\n",
      "A\n",
      "[[0.99837493 0.00162507]\n",
      " [0.98737258 0.01262742]]\n",
      "B\n",
      "[[0.13356703 0.13072388 0.27566043 0.24705389 0.21299477]\n",
      " [0.00827999 0.5927125  0.29233333 0.0877998  0.01887437]]\n",
      "mu_0\n",
      "[0.96988367 0.03011633]\n",
      "Log likelihood\n",
      "-4998.6716785079925\n",
      "\n",
      "\n",
      "Iteration 3:\n",
      "A\n",
      "[[9.99996920e-01 3.07953065e-06]\n",
      " [9.99971213e-01 2.87872962e-05]]\n",
      "B\n",
      "[[0.1286875  0.16009148 0.27702573 0.23692092 0.19727436]\n",
      " [0.00706304 0.64306916 0.25983455 0.07424644 0.01578681]]\n",
      "mu_0\n",
      "[0.9972861 0.0027139]\n",
      "Log likelihood\n",
      "-4986.017284241341\n",
      "\n",
      "\n",
      "Iteration 4:\n",
      "A\n",
      "[[1.00000000e+00 8.15941953e-11]\n",
      " [1.00000000e+00 1.57341275e-10]]\n",
      "B\n",
      "[[0.12855661 0.16108867 0.27701221 0.23658223 0.19676027]\n",
      " [0.00687609 0.63058979 0.25320173 0.0722508  0.0370816 ]]\n",
      "mu_0\n",
      "[9.99782283e-01 2.17716930e-04]\n",
      "Log likelihood\n",
      "-4986.004845638997\n",
      "\n",
      "\n",
      "Iteration 5:\n",
      "A\n",
      "[[1.00000000e+00 4.08702199e-15]\n",
      " [1.00000000e+00 9.29310687e-18]]\n",
      "B\n",
      "[[1.28559821e-01 1.61094615e-01 2.77019564e-01 2.36587974e-01\n",
      "  1.96738026e-01]\n",
      " [4.30116203e-05 3.94454047e-03 1.58384127e-03 4.51946089e-04\n",
      "  9.93976661e-01]]\n",
      "mu_0\n",
      "[9.99958962e-01 4.10383562e-05]\n",
      "Log likelihood\n",
      "-4986.004628665748\n",
      "\n",
      "\n",
      "Updated Log Likelihood: -4986.004628665748\n",
      "Predicted states: [0. 0. 0. ... 0. 0. 1.]\n"
     ]
    }
   ],
   "source": [
    "hmm_chromosome = HMM(file = \"hmm_params.txt\", N = len(chromosome_emission))\n",
    "log_likelihood, _, _ = hmm_chromosome.forwardAlgorithm(chromosome_emission)\n",
    "\n",
    "print(\"Log Likelihood: \" + str(log_likelihood) + \"\\n\")\n",
    "\n",
    "new_log_likelihood = hmm_chromosome.BaumWelchAlgorithm(chromosome_emission, threshold = 0.01, verbose = 1)\n",
    "\n",
    "print(\"Updated Log Likelihood: \" + str(new_log_likelihood))\n",
    "\n",
    "predicted_state = hmm_chromosome.ViterbiAlgorithm(chromosome_emission)\n",
    "\n",
    "print(\"Predicted states: \" + str(predicted_state))"
   ]
  },
  {
   "cell_type": "code",
   "execution_count": 24,
   "id": "220d22d3",
   "metadata": {},
   "outputs": [
    {
     "name": "stdout",
     "output_type": "stream",
     "text": [
      "a_hat\n",
      "[[9.99792697e-01 1.00000000e+00 1.00000000e+00 ... 1.00000000e+00\n",
      "  1.00000000e+00 1.00000000e+00]\n",
      " [2.07303015e-04 2.06445308e-14 2.06488017e-14 ... 2.06488017e-14\n",
      "  2.06488017e-14 2.06488017e-14]]\n",
      "\n",
      "b_hat\n",
      "[[3.07580555e+01 3.07631705e+01 3.07631705e+01 ... 3.07631705e+01\n",
      "  3.07631705e+01 5.08290147e+00]\n",
      " [1.25708849e-13 1.25729754e-13 1.25729754e-13 ... 1.25729754e-13\n",
      "  2.10125796e-14 5.08290147e+00]]\n"
     ]
    }
   ],
   "source": [
    "L, a_hat, c = hmm_chromosome.forwardAlgorithm(chromosome_emission)\n",
    "b_hat = hmm_chromosome.backwardAlgorithm(chromosome_emission, c)\n",
    "\n",
    "print(\"a_hat\")\n",
    "print(a_hat)\n",
    "\n",
    "print(\"\\nb_hat\")\n",
    "print(b_hat)"
   ]
  },
  {
   "cell_type": "code",
   "execution_count": 29,
   "id": "d6608851",
   "metadata": {},
   "outputs": [
    {
     "name": "stdout",
     "output_type": "stream",
     "text": [
      "Counter({0.0: 3167})\n",
      "3167\n"
     ]
    }
   ],
   "source": [
    "print(Counter(predicted_state))\n",
    "print(len(chromosome_emission))"
   ]
  },
  {
   "cell_type": "code",
   "execution_count": 30,
   "id": "98030f20",
   "metadata": {},
   "outputs": [
    {
     "data": {
      "image/png": "[encoded data removed]",
      "text/plain": [
       "<Figure size 432x288 with 1 Axes>"
      ]
     },
     "metadata": {
      "needs_background": "light"
     },
     "output_type": "display_data"
    }
   ],
   "source": [
    "colour_dict = {0: \"red\", 1: \"chartreuse\", 2: \"green\", 3: \"blue\"}\n",
    "\n",
    "min_position = 3000\n",
    "max_position = 3167\n",
    "\n",
    "fig = plt.figure()\n",
    "ax = fig.add_axes([0,0,2,1])\n",
    "ax.bar([i for i in range(len(chromosome_emission[min_position : max_position]))],\n",
    "       chromosome_emission[min_position : max_position],\n",
    "       color = [colour_dict[int(s)] for s in predicted_state[min_position : max_position]])\n",
    "plt.grid(color = '#95a5a6', linestyle = '--', linewidth = 2, axis = 'y', alpha = 0.2)\n",
    "plt.title('HMM States and Emission')\n",
    "plt.xlabel('Index')\n",
    "plt.ylabel('Emission')\n",
    "\n",
    "plt.legend(handles = [mpatches.Patch(color = colour_dict[i],\n",
    "                                     label = np.unique(predicted_state[min_position : max_position])[i])\n",
    "                      for i in range(len(np.unique(predicted_state[min_position : max_position])))],\n",
    "           title = \"Predicted State\")\n",
    "#plt.savefig(\".pdf\", bbox_inches = 'tight')\n",
    "plt.show()"
   ]
  },
  {
   "cell_type": "code",
   "execution_count": null,
   "id": "baddfb1c",
   "metadata": {},
   "outputs": [],
   "source": []
  }
 ],
 "metadata": {
  "kernelspec": {
   "display_name": "Python 3 (ipykernel)",
   "language": "python",
   "name": "python3"
  },
  "language_info": {
   "codemirror_mode": {
    "name": "ipython",
    "version": 3
   },
   "file_extension": ".py",
   "mimetype": "text/x-python",
   "name": "python",
   "nbconvert_exporter": "python",
   "pygments_lexer": "ipython3",
   "version": "3.9.7"
  }
 },
 "nbformat": 4,
 "nbformat_minor": 5
}
